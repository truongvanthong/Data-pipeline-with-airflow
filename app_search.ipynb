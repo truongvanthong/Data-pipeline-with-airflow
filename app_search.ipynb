{
 "cells": [
  {
   "cell_type": "code",
   "execution_count": 1,
   "metadata": {},
   "outputs": [],
   "source": [
    "import requests"
   ]
  },
  {
   "cell_type": "code",
   "execution_count": 2,
   "metadata": {},
   "outputs": [],
   "source": [
    "url = \"http://localhost:5678\""
   ]
  },
  {
   "cell_type": "code",
   "execution_count": 4,
   "metadata": {},
   "outputs": [],
   "source": [
    "response = requests.post(f\"{url}/search\", json = {\"query\": \"Hội nghị cấp khoa?\"})"
   ]
  },
  {
   "cell_type": "code",
   "execution_count": 5,
   "metadata": {},
   "outputs": [
    {
     "data": {
      "text/plain": [
       "{'query': 'Hội nghị cấp khoa?',\n",
       " 'result': {'id': 'ebd150a1-8891-4b87-800f-f72c7524cb4f',\n",
       "  'payload': {'content': 'Hội nghị khoa học Hệ thống thông tin - ITIA2024 do Khoa Công nghệ thông tin tổ chức vào ngày 17/05/2023 nhằm thu hút sự tham gia của các đề tài đa dạng liên quan đến Ngành.\\nHội nghị kính mời các đề tài ở các lĩnh vực như Thương mại điện tử (ecommerce), An toàn thông tin (information security), Hoạch định nguồn lực doanh nghiệp (ERP), Tiếp thị điện tử (emarketing), Phân tích dữ liệu (data analysis), Dữ liệu lớn (big data), Điện toán đám mây (cloud computing), Quản lý thông tin (information management), Tương tác người máy (human-computer interaction), Trí tuệ nhân tạo và máy học (AI and machine learning), Khoa học dữ liệu (data science), Thông tin sức khỏe (health informatics), internet vạn vật (IOT), Điện toán song song và phân tán (parallel and distributed computing), Điện toán di động và không dây (mobile and wireless computing), và các lĩnh vực mở rộng liên quan khác.\\n\\nHạn nộp bài: 17/04/2024\\nThời gian tổ chức: 17/05/2024\\nLink nộp bài: https://easychair.org/conferences/?conf=isitia2024\\nMẫu bài báo và hướng dẫn nộp bài: https://drive.google.com/drive/folders/1z5fGYI5_ghGKjrQA0bfT8mUxiAqkWcoE\\n\\nTrân trọng kính mời quý thầy cô và các bạn sinh viên tham gia nộp bài vào Hội nghị.\\nNgành Hệ thống thông tin\\n',\n",
       "   'date': '07-03-2024',\n",
       "   'href': 'news.html@detail@102@3241@Hoi-nghi-cap-Khoa-chu-de-He-thong-thong-tin-2024',\n",
       "   'status': 'new',\n",
       "   'title': 'Hội nghị cấp Khoa chủ đề Hệ thống thông tin 2024'},\n",
       "  'score': 0.026429314,\n",
       "  'shard_key': None,\n",
       "  'vector': None,\n",
       "  'version': 0},\n",
       " 'status': 'success'}"
      ]
     },
     "execution_count": 5,
     "metadata": {},
     "output_type": "execute_result"
    }
   ],
   "source": [
    "response.json()"
   ]
  }
 ],
 "metadata": {
  "kernelspec": {
   "display_name": "Python 3",
   "language": "python",
   "name": "python3"
  },
  "language_info": {
   "codemirror_mode": {
    "name": "ipython",
    "version": 3
   },
   "file_extension": ".py",
   "mimetype": "text/x-python",
   "name": "python",
   "nbconvert_exporter": "python",
   "pygments_lexer": "ipython3",
   "version": "3.11.5"
  }
 },
 "nbformat": 4,
 "nbformat_minor": 2
}
