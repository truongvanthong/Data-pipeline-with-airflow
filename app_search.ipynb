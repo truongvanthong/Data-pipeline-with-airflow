{
 "cells": [
  {
   "cell_type": "code",
   "execution_count": 1,
   "metadata": {},
   "outputs": [],
   "source": [
    "import requests"
   ]
  },
  {
   "cell_type": "code",
   "execution_count": 2,
   "metadata": {},
   "outputs": [],
   "source": [
    "url = \"http://localhost:9955\""
   ]
  },
  {
   "cell_type": "code",
   "execution_count": 3,
   "metadata": {},
   "outputs": [],
   "source": [
    "response = requests.post(f\"{url}/search\", json = {\"query\": \"Hội nghị cấp khoa?\"})"
   ]
  },
  {
   "cell_type": "code",
   "execution_count": 4,
   "metadata": {},
   "outputs": [
    {
     "data": {
      "text/plain": [
       "{'query': 'Hội nghị cấp khoa?',\n",
       " 'result': {'id': '9343d0c3-7719-4103-9afa-fd47d09c9fdd',\n",
       "  'payload': {'content': 'Công DXC Việt Nam là một trong các công ty đa quốc gia chuyên tư vấn và cung cấp các giải pháp CNTT. Bên cạnh đó, DXC cũng là công ty có nhiều sinh viên khoa CNTT đến thực tập tại doanh nghiệp cũng như làm việc sau khi ra trường.\\xa0\\nBộ môn Kỹ thuật phần mềm hợp tác với công ty DXC Việt Nam tổ chức một buổi tham quan công ty. Đây là chương trình giúp cho các sinh viên đang học tập hoặc chuẩn bị ra trường có một góc nhìn thực tế về môi trường làm việc tại các doanh nghiệp đa quốc gia.\\xa0\\nHình thức: Tham quan trực tiếp tại văn phòng công ty DXC Việt Nam\\nĐịa điểm: Văn phòng công ty\\xa0DXC Việt Nam - Tầng 14, Etown 5, 364 Cộng Hòa, Phường 13, Quận Tân Bình, Tp. Hồ Chí Minh\\nThời gian: 08g30 đến 11g00 -\\xa0 thứ năm - ngày 24/08/2023\\nĐối tượng: Sinh viên năm 3, 4 thuộc tất cả các ngành ở khoa CNTT và tất cả các giảng viên quan tâm.\\nThời gian đăng ký: từ nay đến hết ngày 20/08/2023\\nHình thức đăng ký: Hiện tại số lượng đã đủ 100 bạn. Nếu bạn muốn tham dự đợt 2 vào ngày khác thì đăng ký vào Link này\\nLịch trình tham quan:\\xa0\\n\\nMọi thắc mắc về hội thảo - Cô Nguyễn Thị Hạnh - Chủ nhiệm ngành Kỹ thuật phần mềm - 0773070596 - ngthihanh@iuh.edu.vn\\n',\n",
       "   'date': '06-08-2023',\n",
       "   'href': 'news.html@detail@102@3138@[Kien-tap]-DXC-Vietnam-Office-Tour',\n",
       "   'status': 'new',\n",
       "   'title': '[Kiến tập]: DXC Vietnam Office Tour'},\n",
       "  'score': 0.04697357,\n",
       "  'shard_key': None,\n",
       "  'vector': None,\n",
       "  'version': 2},\n",
       " 'status': 'success'}"
      ]
     },
     "execution_count": 4,
     "metadata": {},
     "output_type": "execute_result"
    }
   ],
   "source": [
    "response.json()"
   ]
  }
 ],
 "metadata": {
  "kernelspec": {
   "display_name": "Python 3",
   "language": "python",
   "name": "python3"
  },
  "language_info": {
   "codemirror_mode": {
    "name": "ipython",
    "version": 3
   },
   "file_extension": ".py",
   "mimetype": "text/x-python",
   "name": "python",
   "nbconvert_exporter": "python",
   "pygments_lexer": "ipython3",
   "version": "3.11.5"
  }
 },
 "nbformat": 4,
 "nbformat_minor": 2
}
